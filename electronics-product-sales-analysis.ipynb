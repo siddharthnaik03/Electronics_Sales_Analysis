{
 "cells": [
  {
   "cell_type": "code",
   "execution_count": 1,
   "id": "13b09695",
   "metadata": {
    "execution": {
     "iopub.execute_input": "2024-06-20T15:23:42.825953Z",
     "iopub.status.busy": "2024-06-20T15:23:42.825364Z",
     "iopub.status.idle": "2024-06-20T15:23:45.234431Z",
     "shell.execute_reply": "2024-06-20T15:23:45.233295Z"
    },
    "id": "60fryKYO0rTj",
    "papermill": {
     "duration": 2.423322,
     "end_time": "2024-06-20T15:23:45.237527",
     "exception": false,
     "start_time": "2024-06-20T15:23:42.814205",
     "status": "completed"
    },
    "tags": []
   },
   "outputs": [],
   "source": [
    "import pandas as pd\n",
    "import numpy as np\n",
    "import seaborn as sns\n",
    "import matplotlib.pyplot as plt"
   ]
  },
  {
   "cell_type": "code",
   "execution_count": 2,
   "id": "aed5653f",
   "metadata": {
    "execution": {
     "iopub.execute_input": "2024-06-20T15:23:45.258202Z",
     "iopub.status.busy": "2024-06-20T15:23:45.257628Z",
     "iopub.status.idle": "2024-06-20T15:23:48.373330Z",
     "shell.execute_reply": "2024-06-20T15:23:48.372115Z"
    },
    "id": "ZMOPaKgj0__T",
    "outputId": "62482f55-64c7-463c-ef8e-9d49e2630ec2",
    "papermill": {
     "duration": 3.128848,
     "end_time": "2024-06-20T15:23:48.376058",
     "exception": false,
     "start_time": "2024-06-20T15:23:45.247210",
     "status": "completed"
    },
    "tags": []
   },
   "outputs": [
    {
     "data": {
      "text/html": [
       "<div>\n",
       "<style scoped>\n",
       "    .dataframe tbody tr th:only-of-type {\n",
       "        vertical-align: middle;\n",
       "    }\n",
       "\n",
       "    .dataframe tbody tr th {\n",
       "        vertical-align: top;\n",
       "    }\n",
       "\n",
       "    .dataframe thead th {\n",
       "        text-align: right;\n",
       "    }\n",
       "</style>\n",
       "<table border=\"1\" class=\"dataframe\">\n",
       "  <thead>\n",
       "    <tr style=\"text-align: right;\">\n",
       "      <th></th>\n",
       "      <th>item_id</th>\n",
       "      <th>user_id</th>\n",
       "      <th>rating</th>\n",
       "      <th>timestamp</th>\n",
       "      <th>model_attr</th>\n",
       "      <th>category</th>\n",
       "      <th>brand</th>\n",
       "      <th>year</th>\n",
       "      <th>user_attr</th>\n",
       "      <th>split</th>\n",
       "    </tr>\n",
       "  </thead>\n",
       "  <tbody>\n",
       "    <tr>\n",
       "      <th>0</th>\n",
       "      <td>0</td>\n",
       "      <td>0</td>\n",
       "      <td>5.0</td>\n",
       "      <td>1999-06-13</td>\n",
       "      <td>Female</td>\n",
       "      <td>Portable Audio &amp; Video</td>\n",
       "      <td>NaN</td>\n",
       "      <td>1999</td>\n",
       "      <td>NaN</td>\n",
       "      <td>0</td>\n",
       "    </tr>\n",
       "    <tr>\n",
       "      <th>1</th>\n",
       "      <td>0</td>\n",
       "      <td>1</td>\n",
       "      <td>5.0</td>\n",
       "      <td>1999-06-14</td>\n",
       "      <td>Female</td>\n",
       "      <td>Portable Audio &amp; Video</td>\n",
       "      <td>NaN</td>\n",
       "      <td>1999</td>\n",
       "      <td>NaN</td>\n",
       "      <td>0</td>\n",
       "    </tr>\n",
       "    <tr>\n",
       "      <th>2</th>\n",
       "      <td>0</td>\n",
       "      <td>2</td>\n",
       "      <td>3.0</td>\n",
       "      <td>1999-06-17</td>\n",
       "      <td>Female</td>\n",
       "      <td>Portable Audio &amp; Video</td>\n",
       "      <td>NaN</td>\n",
       "      <td>1999</td>\n",
       "      <td>NaN</td>\n",
       "      <td>0</td>\n",
       "    </tr>\n",
       "    <tr>\n",
       "      <th>3</th>\n",
       "      <td>0</td>\n",
       "      <td>3</td>\n",
       "      <td>1.0</td>\n",
       "      <td>1999-07-01</td>\n",
       "      <td>Female</td>\n",
       "      <td>Portable Audio &amp; Video</td>\n",
       "      <td>NaN</td>\n",
       "      <td>1999</td>\n",
       "      <td>NaN</td>\n",
       "      <td>0</td>\n",
       "    </tr>\n",
       "    <tr>\n",
       "      <th>4</th>\n",
       "      <td>0</td>\n",
       "      <td>4</td>\n",
       "      <td>2.0</td>\n",
       "      <td>1999-07-06</td>\n",
       "      <td>Female</td>\n",
       "      <td>Portable Audio &amp; Video</td>\n",
       "      <td>NaN</td>\n",
       "      <td>1999</td>\n",
       "      <td>NaN</td>\n",
       "      <td>0</td>\n",
       "    </tr>\n",
       "    <tr>\n",
       "      <th>...</th>\n",
       "      <td>...</td>\n",
       "      <td>...</td>\n",
       "      <td>...</td>\n",
       "      <td>...</td>\n",
       "      <td>...</td>\n",
       "      <td>...</td>\n",
       "      <td>...</td>\n",
       "      <td>...</td>\n",
       "      <td>...</td>\n",
       "      <td>...</td>\n",
       "    </tr>\n",
       "    <tr>\n",
       "      <th>1292949</th>\n",
       "      <td>9478</td>\n",
       "      <td>1157628</td>\n",
       "      <td>1.0</td>\n",
       "      <td>2018-09-26</td>\n",
       "      <td>Female</td>\n",
       "      <td>Headphones</td>\n",
       "      <td>Etre Jeune</td>\n",
       "      <td>2017</td>\n",
       "      <td>NaN</td>\n",
       "      <td>0</td>\n",
       "    </tr>\n",
       "    <tr>\n",
       "      <th>1292950</th>\n",
       "      <td>9435</td>\n",
       "      <td>1157629</td>\n",
       "      <td>5.0</td>\n",
       "      <td>2018-09-26</td>\n",
       "      <td>Female</td>\n",
       "      <td>Computers &amp; Accessories</td>\n",
       "      <td>NaN</td>\n",
       "      <td>2017</td>\n",
       "      <td>NaN</td>\n",
       "      <td>0</td>\n",
       "    </tr>\n",
       "    <tr>\n",
       "      <th>1292951</th>\n",
       "      <td>9305</td>\n",
       "      <td>1157630</td>\n",
       "      <td>3.0</td>\n",
       "      <td>2018-09-26</td>\n",
       "      <td>Female</td>\n",
       "      <td>Computers &amp; Accessories</td>\n",
       "      <td>NaN</td>\n",
       "      <td>2016</td>\n",
       "      <td>NaN</td>\n",
       "      <td>0</td>\n",
       "    </tr>\n",
       "    <tr>\n",
       "      <th>1292952</th>\n",
       "      <td>9303</td>\n",
       "      <td>1157631</td>\n",
       "      <td>5.0</td>\n",
       "      <td>2018-09-29</td>\n",
       "      <td>Male</td>\n",
       "      <td>Headphones</td>\n",
       "      <td>NaN</td>\n",
       "      <td>2018</td>\n",
       "      <td>NaN</td>\n",
       "      <td>0</td>\n",
       "    </tr>\n",
       "    <tr>\n",
       "      <th>1292953</th>\n",
       "      <td>9478</td>\n",
       "      <td>1157632</td>\n",
       "      <td>1.0</td>\n",
       "      <td>2018-10-01</td>\n",
       "      <td>Female</td>\n",
       "      <td>Headphones</td>\n",
       "      <td>Etre Jeune</td>\n",
       "      <td>2017</td>\n",
       "      <td>Female</td>\n",
       "      <td>0</td>\n",
       "    </tr>\n",
       "  </tbody>\n",
       "</table>\n",
       "<p>1292954 rows × 10 columns</p>\n",
       "</div>"
      ],
      "text/plain": [
       "         item_id  user_id  rating   timestamp model_attr  \\\n",
       "0              0        0     5.0  1999-06-13     Female   \n",
       "1              0        1     5.0  1999-06-14     Female   \n",
       "2              0        2     3.0  1999-06-17     Female   \n",
       "3              0        3     1.0  1999-07-01     Female   \n",
       "4              0        4     2.0  1999-07-06     Female   \n",
       "...          ...      ...     ...         ...        ...   \n",
       "1292949     9478  1157628     1.0  2018-09-26     Female   \n",
       "1292950     9435  1157629     5.0  2018-09-26     Female   \n",
       "1292951     9305  1157630     3.0  2018-09-26     Female   \n",
       "1292952     9303  1157631     5.0  2018-09-29       Male   \n",
       "1292953     9478  1157632     1.0  2018-10-01     Female   \n",
       "\n",
       "                        category       brand  year user_attr  split  \n",
       "0         Portable Audio & Video         NaN  1999       NaN      0  \n",
       "1         Portable Audio & Video         NaN  1999       NaN      0  \n",
       "2         Portable Audio & Video         NaN  1999       NaN      0  \n",
       "3         Portable Audio & Video         NaN  1999       NaN      0  \n",
       "4         Portable Audio & Video         NaN  1999       NaN      0  \n",
       "...                          ...         ...   ...       ...    ...  \n",
       "1292949               Headphones  Etre Jeune  2017       NaN      0  \n",
       "1292950  Computers & Accessories         NaN  2017       NaN      0  \n",
       "1292951  Computers & Accessories         NaN  2016       NaN      0  \n",
       "1292952               Headphones         NaN  2018       NaN      0  \n",
       "1292953               Headphones  Etre Jeune  2017    Female      0  \n",
       "\n",
       "[1292954 rows x 10 columns]"
      ]
     },
     "execution_count": 2,
     "metadata": {},
     "output_type": "execute_result"
    }
   ],
   "source": [
    "df=pd.read_csv('/kaggle/input/electronics/electronics.csv')\n",
    "df"
   ]
  },
  {
   "cell_type": "code",
   "execution_count": 3,
   "id": "5312bd71",
   "metadata": {
    "execution": {
     "iopub.execute_input": "2024-06-20T15:23:48.396852Z",
     "iopub.status.busy": "2024-06-20T15:23:48.396446Z",
     "iopub.status.idle": "2024-06-20T15:23:48.403772Z",
     "shell.execute_reply": "2024-06-20T15:23:48.402579Z"
    },
    "id": "YRiZZuBL1EaX",
    "outputId": "bdfe8245-6445-4af2-d25b-bf6d8ee463d1",
    "papermill": {
     "duration": 0.02068,
     "end_time": "2024-06-20T15:23:48.406301",
     "exception": false,
     "start_time": "2024-06-20T15:23:48.385621",
     "status": "completed"
    },
    "tags": []
   },
   "outputs": [
    {
     "data": {
      "text/plain": [
       "(1292954, 10)"
      ]
     },
     "execution_count": 3,
     "metadata": {},
     "output_type": "execute_result"
    }
   ],
   "source": [
    "df.shape"
   ]
  },
  {
   "cell_type": "code",
   "execution_count": 4,
   "id": "52f0a327",
   "metadata": {
    "execution": {
     "iopub.execute_input": "2024-06-20T15:23:48.426962Z",
     "iopub.status.busy": "2024-06-20T15:23:48.425866Z",
     "iopub.status.idle": "2024-06-20T15:23:48.542851Z",
     "shell.execute_reply": "2024-06-20T15:23:48.541681Z"
    },
    "id": "Y9hi08E11OXU",
    "papermill": {
     "duration": 0.130507,
     "end_time": "2024-06-20T15:23:48.545957",
     "exception": false,
     "start_time": "2024-06-20T15:23:48.415450",
     "status": "completed"
    },
    "tags": []
   },
   "outputs": [],
   "source": [
    "df.drop(['split'],inplace=True,axis=1)"
   ]
  },
  {
   "cell_type": "code",
   "execution_count": 5,
   "id": "47de50f2",
   "metadata": {
    "execution": {
     "iopub.execute_input": "2024-06-20T15:23:48.565835Z",
     "iopub.status.busy": "2024-06-20T15:23:48.565457Z",
     "iopub.status.idle": "2024-06-20T15:23:49.156502Z",
     "shell.execute_reply": "2024-06-20T15:23:49.154973Z"
    },
    "id": "H6yZwObK6M9H",
    "outputId": "25a48d21-a68a-4867-8484-66590a8f3470",
    "papermill": {
     "duration": 0.604798,
     "end_time": "2024-06-20T15:23:49.159935",
     "exception": false,
     "start_time": "2024-06-20T15:23:48.555137",
     "status": "completed"
    },
    "tags": []
   },
   "outputs": [
    {
     "name": "stdout",
     "output_type": "stream",
     "text": [
      "<class 'pandas.core.frame.DataFrame'>\n",
      "RangeIndex: 1292954 entries, 0 to 1292953\n",
      "Data columns (total 9 columns):\n",
      " #   Column      Non-Null Count    Dtype  \n",
      "---  ------      --------------    -----  \n",
      " 0   item_id     1292954 non-null  int64  \n",
      " 1   user_id     1292954 non-null  int64  \n",
      " 2   rating      1292954 non-null  float64\n",
      " 3   timestamp   1292954 non-null  object \n",
      " 4   model_attr  1292954 non-null  object \n",
      " 5   category    1292954 non-null  object \n",
      " 6   brand       331120 non-null   object \n",
      " 7   year        1292954 non-null  int64  \n",
      " 8   user_attr   174124 non-null   object \n",
      "dtypes: float64(1), int64(3), object(5)\n",
      "memory usage: 88.8+ MB\n"
     ]
    }
   ],
   "source": [
    "df.info()"
   ]
  },
  {
   "cell_type": "code",
   "execution_count": 6,
   "id": "9044c309",
   "metadata": {
    "execution": {
     "iopub.execute_input": "2024-06-20T15:23:49.180235Z",
     "iopub.status.busy": "2024-06-20T15:23:49.179828Z",
     "iopub.status.idle": "2024-06-20T15:23:50.268570Z",
     "shell.execute_reply": "2024-06-20T15:23:50.267332Z"
    },
    "id": "zAyym72I1oZt",
    "outputId": "7fdf28af-90c2-4cc6-c197-21b64c8d97c2",
    "papermill": {
     "duration": 1.10215,
     "end_time": "2024-06-20T15:23:50.271455",
     "exception": false,
     "start_time": "2024-06-20T15:23:49.169305",
     "status": "completed"
    },
    "tags": []
   },
   "outputs": [
    {
     "data": {
      "text/plain": [
       "0"
      ]
     },
     "execution_count": 6,
     "metadata": {},
     "output_type": "execute_result"
    }
   ],
   "source": [
    "df.duplicated().sum()"
   ]
  },
  {
   "cell_type": "code",
   "execution_count": 7,
   "id": "8af80c62",
   "metadata": {
    "execution": {
     "iopub.execute_input": "2024-06-20T15:23:50.291664Z",
     "iopub.status.busy": "2024-06-20T15:23:50.291196Z",
     "iopub.status.idle": "2024-06-20T15:23:50.860864Z",
     "shell.execute_reply": "2024-06-20T15:23:50.859598Z"
    },
    "id": "ubWdmGKN11UP",
    "outputId": "0cb74e15-021d-4024-c4c5-ab446b0c498a",
    "papermill": {
     "duration": 0.582786,
     "end_time": "2024-06-20T15:23:50.863525",
     "exception": false,
     "start_time": "2024-06-20T15:23:50.280739",
     "status": "completed"
    },
    "tags": []
   },
   "outputs": [
    {
     "data": {
      "text/plain": [
       "item_id             0\n",
       "user_id             0\n",
       "rating              0\n",
       "timestamp           0\n",
       "model_attr          0\n",
       "category            0\n",
       "brand          961834\n",
       "year                0\n",
       "user_attr     1118830\n",
       "dtype: int64"
      ]
     },
     "execution_count": 7,
     "metadata": {},
     "output_type": "execute_result"
    }
   ],
   "source": [
    "df.isnull().sum()"
   ]
  },
  {
   "cell_type": "code",
   "execution_count": 8,
   "id": "3f959380",
   "metadata": {
    "execution": {
     "iopub.execute_input": "2024-06-20T15:23:50.884153Z",
     "iopub.status.busy": "2024-06-20T15:23:50.883736Z",
     "iopub.status.idle": "2024-06-20T15:23:51.322735Z",
     "shell.execute_reply": "2024-06-20T15:23:51.321670Z"
    },
    "id": "JGWG1IjP1_nE",
    "papermill": {
     "duration": 0.453099,
     "end_time": "2024-06-20T15:23:51.326141",
     "exception": false,
     "start_time": "2024-06-20T15:23:50.873042",
     "status": "completed"
    },
    "tags": []
   },
   "outputs": [],
   "source": [
    "df['brand']=df['brand'].fillna(df['brand'].mode()[0])\n",
    "df['user_attr']=df['user_attr'].fillna(df['user_attr'].mode()[0])"
   ]
  },
  {
   "cell_type": "code",
   "execution_count": 9,
   "id": "89d4e3d4",
   "metadata": {
    "execution": {
     "iopub.execute_input": "2024-06-20T15:23:51.347496Z",
     "iopub.status.busy": "2024-06-20T15:23:51.347108Z",
     "iopub.status.idle": "2024-06-20T15:23:52.050405Z",
     "shell.execute_reply": "2024-06-20T15:23:52.049152Z"
    },
    "id": "tU40V0CL2GRE",
    "outputId": "ccf74fb6-732f-45a6-e7d2-82e4b4ab597f",
    "papermill": {
     "duration": 0.717228,
     "end_time": "2024-06-20T15:23:52.053302",
     "exception": false,
     "start_time": "2024-06-20T15:23:51.336074",
     "status": "completed"
    },
    "tags": []
   },
   "outputs": [
    {
     "data": {
      "text/plain": [
       "item_id       0\n",
       "user_id       0\n",
       "rating        0\n",
       "timestamp     0\n",
       "model_attr    0\n",
       "category      0\n",
       "brand         0\n",
       "year          0\n",
       "user_attr     0\n",
       "dtype: int64"
      ]
     },
     "execution_count": 9,
     "metadata": {},
     "output_type": "execute_result"
    }
   ],
   "source": [
    "df.isnull().sum()"
   ]
  },
  {
   "cell_type": "code",
   "execution_count": 10,
   "id": "8abdbc4e",
   "metadata": {
    "execution": {
     "iopub.execute_input": "2024-06-20T15:23:52.075363Z",
     "iopub.status.busy": "2024-06-20T15:23:52.074964Z",
     "iopub.status.idle": "2024-06-20T15:23:52.082228Z",
     "shell.execute_reply": "2024-06-20T15:23:52.081047Z"
    },
    "id": "QopXylPA2N4p",
    "outputId": "cca05637-e883-4dbe-a07e-69e76ca21c43",
    "papermill": {
     "duration": 0.021499,
     "end_time": "2024-06-20T15:23:52.084833",
     "exception": false,
     "start_time": "2024-06-20T15:23:52.063334",
     "status": "completed"
    },
    "tags": []
   },
   "outputs": [
    {
     "data": {
      "text/plain": [
       "(1292954, 9)"
      ]
     },
     "execution_count": 10,
     "metadata": {},
     "output_type": "execute_result"
    }
   ],
   "source": [
    "df.shape"
   ]
  },
  {
   "cell_type": "code",
   "execution_count": 11,
   "id": "89d8af79",
   "metadata": {
    "execution": {
     "iopub.execute_input": "2024-06-20T15:23:52.106388Z",
     "iopub.status.busy": "2024-06-20T15:23:52.105988Z",
     "iopub.status.idle": "2024-06-20T15:23:53.126077Z",
     "shell.execute_reply": "2024-06-20T15:23:53.124865Z"
    },
    "id": "von8rUGG_nJz",
    "outputId": "beafbb7d-cba3-4582-bba4-d7499f9e8e68",
    "papermill": {
     "duration": 1.034492,
     "end_time": "2024-06-20T15:23:53.129415",
     "exception": false,
     "start_time": "2024-06-20T15:23:52.094923",
     "status": "completed"
    },
    "tags": []
   },
   "outputs": [
    {
     "data": {
      "text/html": [
       "<div>\n",
       "<style scoped>\n",
       "    .dataframe tbody tr th:only-of-type {\n",
       "        vertical-align: middle;\n",
       "    }\n",
       "\n",
       "    .dataframe tbody tr th {\n",
       "        vertical-align: top;\n",
       "    }\n",
       "\n",
       "    .dataframe thead th {\n",
       "        text-align: right;\n",
       "    }\n",
       "</style>\n",
       "<table border=\"1\" class=\"dataframe\">\n",
       "  <thead>\n",
       "    <tr style=\"text-align: right;\">\n",
       "      <th></th>\n",
       "      <th>item_id</th>\n",
       "      <th>user_id</th>\n",
       "      <th>rating</th>\n",
       "      <th>timestamp</th>\n",
       "      <th>model_attr</th>\n",
       "      <th>category</th>\n",
       "      <th>brand</th>\n",
       "      <th>year</th>\n",
       "      <th>user_attr</th>\n",
       "    </tr>\n",
       "  </thead>\n",
       "  <tbody>\n",
       "    <tr>\n",
       "      <th>0</th>\n",
       "      <td>0</td>\n",
       "      <td>0</td>\n",
       "      <td>5.0</td>\n",
       "      <td>1999-06-13</td>\n",
       "      <td>Female</td>\n",
       "      <td>Portable Audio &amp; Video</td>\n",
       "      <td>Bose</td>\n",
       "      <td>1999</td>\n",
       "      <td>Male</td>\n",
       "    </tr>\n",
       "    <tr>\n",
       "      <th>1</th>\n",
       "      <td>0</td>\n",
       "      <td>1</td>\n",
       "      <td>5.0</td>\n",
       "      <td>1999-06-14</td>\n",
       "      <td>Female</td>\n",
       "      <td>Portable Audio &amp; Video</td>\n",
       "      <td>Bose</td>\n",
       "      <td>1999</td>\n",
       "      <td>Male</td>\n",
       "    </tr>\n",
       "    <tr>\n",
       "      <th>2</th>\n",
       "      <td>0</td>\n",
       "      <td>2</td>\n",
       "      <td>3.0</td>\n",
       "      <td>1999-06-17</td>\n",
       "      <td>Female</td>\n",
       "      <td>Portable Audio &amp; Video</td>\n",
       "      <td>Bose</td>\n",
       "      <td>1999</td>\n",
       "      <td>Male</td>\n",
       "    </tr>\n",
       "    <tr>\n",
       "      <th>3</th>\n",
       "      <td>0</td>\n",
       "      <td>3</td>\n",
       "      <td>1.0</td>\n",
       "      <td>1999-07-01</td>\n",
       "      <td>Female</td>\n",
       "      <td>Portable Audio &amp; Video</td>\n",
       "      <td>Bose</td>\n",
       "      <td>1999</td>\n",
       "      <td>Male</td>\n",
       "    </tr>\n",
       "    <tr>\n",
       "      <th>4</th>\n",
       "      <td>0</td>\n",
       "      <td>4</td>\n",
       "      <td>2.0</td>\n",
       "      <td>1999-07-06</td>\n",
       "      <td>Female</td>\n",
       "      <td>Portable Audio &amp; Video</td>\n",
       "      <td>Bose</td>\n",
       "      <td>1999</td>\n",
       "      <td>Male</td>\n",
       "    </tr>\n",
       "    <tr>\n",
       "      <th>...</th>\n",
       "      <td>...</td>\n",
       "      <td>...</td>\n",
       "      <td>...</td>\n",
       "      <td>...</td>\n",
       "      <td>...</td>\n",
       "      <td>...</td>\n",
       "      <td>...</td>\n",
       "      <td>...</td>\n",
       "      <td>...</td>\n",
       "    </tr>\n",
       "    <tr>\n",
       "      <th>1292949</th>\n",
       "      <td>9478</td>\n",
       "      <td>1157628</td>\n",
       "      <td>1.0</td>\n",
       "      <td>2018-09-26</td>\n",
       "      <td>Female</td>\n",
       "      <td>Headphones</td>\n",
       "      <td>Etre Jeune</td>\n",
       "      <td>2017</td>\n",
       "      <td>Male</td>\n",
       "    </tr>\n",
       "    <tr>\n",
       "      <th>1292950</th>\n",
       "      <td>9435</td>\n",
       "      <td>1157629</td>\n",
       "      <td>5.0</td>\n",
       "      <td>2018-09-26</td>\n",
       "      <td>Female</td>\n",
       "      <td>Computers &amp; Accessories</td>\n",
       "      <td>Bose</td>\n",
       "      <td>2017</td>\n",
       "      <td>Male</td>\n",
       "    </tr>\n",
       "    <tr>\n",
       "      <th>1292951</th>\n",
       "      <td>9305</td>\n",
       "      <td>1157630</td>\n",
       "      <td>3.0</td>\n",
       "      <td>2018-09-26</td>\n",
       "      <td>Female</td>\n",
       "      <td>Computers &amp; Accessories</td>\n",
       "      <td>Bose</td>\n",
       "      <td>2016</td>\n",
       "      <td>Male</td>\n",
       "    </tr>\n",
       "    <tr>\n",
       "      <th>1292952</th>\n",
       "      <td>9303</td>\n",
       "      <td>1157631</td>\n",
       "      <td>5.0</td>\n",
       "      <td>2018-09-29</td>\n",
       "      <td>Male</td>\n",
       "      <td>Headphones</td>\n",
       "      <td>Bose</td>\n",
       "      <td>2018</td>\n",
       "      <td>Male</td>\n",
       "    </tr>\n",
       "    <tr>\n",
       "      <th>1292953</th>\n",
       "      <td>9478</td>\n",
       "      <td>1157632</td>\n",
       "      <td>1.0</td>\n",
       "      <td>2018-10-01</td>\n",
       "      <td>Female</td>\n",
       "      <td>Headphones</td>\n",
       "      <td>Etre Jeune</td>\n",
       "      <td>2017</td>\n",
       "      <td>Female</td>\n",
       "    </tr>\n",
       "  </tbody>\n",
       "</table>\n",
       "<p>1292954 rows × 9 columns</p>\n",
       "</div>"
      ],
      "text/plain": [
       "         item_id  user_id  rating   timestamp model_attr  \\\n",
       "0              0        0     5.0  1999-06-13     Female   \n",
       "1              0        1     5.0  1999-06-14     Female   \n",
       "2              0        2     3.0  1999-06-17     Female   \n",
       "3              0        3     1.0  1999-07-01     Female   \n",
       "4              0        4     2.0  1999-07-06     Female   \n",
       "...          ...      ...     ...         ...        ...   \n",
       "1292949     9478  1157628     1.0  2018-09-26     Female   \n",
       "1292950     9435  1157629     5.0  2018-09-26     Female   \n",
       "1292951     9305  1157630     3.0  2018-09-26     Female   \n",
       "1292952     9303  1157631     5.0  2018-09-29       Male   \n",
       "1292953     9478  1157632     1.0  2018-10-01     Female   \n",
       "\n",
       "                        category       brand  year user_attr  \n",
       "0         Portable Audio & Video        Bose  1999      Male  \n",
       "1         Portable Audio & Video        Bose  1999      Male  \n",
       "2         Portable Audio & Video        Bose  1999      Male  \n",
       "3         Portable Audio & Video        Bose  1999      Male  \n",
       "4         Portable Audio & Video        Bose  1999      Male  \n",
       "...                          ...         ...   ...       ...  \n",
       "1292949               Headphones  Etre Jeune  2017      Male  \n",
       "1292950  Computers & Accessories        Bose  2017      Male  \n",
       "1292951  Computers & Accessories        Bose  2016      Male  \n",
       "1292952               Headphones        Bose  2018      Male  \n",
       "1292953               Headphones  Etre Jeune  2017    Female  \n",
       "\n",
       "[1292954 rows x 9 columns]"
      ]
     },
     "execution_count": 11,
     "metadata": {},
     "output_type": "execute_result"
    }
   ],
   "source": [
    "df.dropna()"
   ]
  },
  {
   "cell_type": "code",
   "execution_count": 12,
   "id": "6a106656",
   "metadata": {
    "execution": {
     "iopub.execute_input": "2024-06-20T15:23:53.152398Z",
     "iopub.status.busy": "2024-06-20T15:23:53.151995Z",
     "iopub.status.idle": "2024-06-20T15:23:53.342760Z",
     "shell.execute_reply": "2024-06-20T15:23:53.341540Z"
    },
    "id": "24zc-JEY2TtC",
    "outputId": "07129587-7e17-4b2e-ff71-ebd26c0d77be",
    "papermill": {
     "duration": 0.205394,
     "end_time": "2024-06-20T15:23:53.345437",
     "exception": false,
     "start_time": "2024-06-20T15:23:53.140043",
     "status": "completed"
    },
    "tags": []
   },
   "outputs": [
    {
     "data": {
      "text/html": [
       "<div>\n",
       "<style scoped>\n",
       "    .dataframe tbody tr th:only-of-type {\n",
       "        vertical-align: middle;\n",
       "    }\n",
       "\n",
       "    .dataframe tbody tr th {\n",
       "        vertical-align: top;\n",
       "    }\n",
       "\n",
       "    .dataframe thead th {\n",
       "        text-align: right;\n",
       "    }\n",
       "</style>\n",
       "<table border=\"1\" class=\"dataframe\">\n",
       "  <thead>\n",
       "    <tr style=\"text-align: right;\">\n",
       "      <th></th>\n",
       "      <th>item_id</th>\n",
       "      <th>user_id</th>\n",
       "      <th>rating</th>\n",
       "      <th>year</th>\n",
       "    </tr>\n",
       "  </thead>\n",
       "  <tbody>\n",
       "    <tr>\n",
       "      <th>count</th>\n",
       "      <td>1.292954e+06</td>\n",
       "      <td>1.292954e+06</td>\n",
       "      <td>1.292954e+06</td>\n",
       "      <td>1.292954e+06</td>\n",
       "    </tr>\n",
       "    <tr>\n",
       "      <th>mean</th>\n",
       "      <td>4.183588e+03</td>\n",
       "      <td>5.605127e+05</td>\n",
       "      <td>4.051482e+00</td>\n",
       "      <td>2.012938e+03</td>\n",
       "    </tr>\n",
       "    <tr>\n",
       "      <th>std</th>\n",
       "      <td>2.525346e+03</td>\n",
       "      <td>3.342374e+05</td>\n",
       "      <td>1.379732e+00</td>\n",
       "      <td>2.643513e+00</td>\n",
       "    </tr>\n",
       "    <tr>\n",
       "      <th>min</th>\n",
       "      <td>0.000000e+00</td>\n",
       "      <td>0.000000e+00</td>\n",
       "      <td>1.000000e+00</td>\n",
       "      <td>1.999000e+03</td>\n",
       "    </tr>\n",
       "    <tr>\n",
       "      <th>25%</th>\n",
       "      <td>2.018000e+03</td>\n",
       "      <td>2.697482e+05</td>\n",
       "      <td>4.000000e+00</td>\n",
       "      <td>2.012000e+03</td>\n",
       "    </tr>\n",
       "    <tr>\n",
       "      <th>50%</th>\n",
       "      <td>3.930000e+03</td>\n",
       "      <td>5.518920e+05</td>\n",
       "      <td>5.000000e+00</td>\n",
       "      <td>2.014000e+03</td>\n",
       "    </tr>\n",
       "    <tr>\n",
       "      <th>75%</th>\n",
       "      <td>6.289000e+03</td>\n",
       "      <td>8.474858e+05</td>\n",
       "      <td>5.000000e+00</td>\n",
       "      <td>2.015000e+03</td>\n",
       "    </tr>\n",
       "    <tr>\n",
       "      <th>max</th>\n",
       "      <td>9.559000e+03</td>\n",
       "      <td>1.157632e+06</td>\n",
       "      <td>5.000000e+00</td>\n",
       "      <td>2.018000e+03</td>\n",
       "    </tr>\n",
       "  </tbody>\n",
       "</table>\n",
       "</div>"
      ],
      "text/plain": [
       "            item_id       user_id        rating          year\n",
       "count  1.292954e+06  1.292954e+06  1.292954e+06  1.292954e+06\n",
       "mean   4.183588e+03  5.605127e+05  4.051482e+00  2.012938e+03\n",
       "std    2.525346e+03  3.342374e+05  1.379732e+00  2.643513e+00\n",
       "min    0.000000e+00  0.000000e+00  1.000000e+00  1.999000e+03\n",
       "25%    2.018000e+03  2.697482e+05  4.000000e+00  2.012000e+03\n",
       "50%    3.930000e+03  5.518920e+05  5.000000e+00  2.014000e+03\n",
       "75%    6.289000e+03  8.474858e+05  5.000000e+00  2.015000e+03\n",
       "max    9.559000e+03  1.157632e+06  5.000000e+00  2.018000e+03"
      ]
     },
     "execution_count": 12,
     "metadata": {},
     "output_type": "execute_result"
    }
   ],
   "source": [
    "df.describe()"
   ]
  },
  {
   "cell_type": "code",
   "execution_count": 13,
   "id": "ec9d6416",
   "metadata": {
    "execution": {
     "iopub.execute_input": "2024-06-20T15:23:53.368814Z",
     "iopub.status.busy": "2024-06-20T15:23:53.368396Z",
     "iopub.status.idle": "2024-06-20T15:23:54.427983Z",
     "shell.execute_reply": "2024-06-20T15:23:54.426347Z"
    },
    "id": "3XKFq7MB_274",
    "outputId": "99ef67dc-2ef0-4c04-d1e6-6798528e10cf",
    "papermill": {
     "duration": 1.074239,
     "end_time": "2024-06-20T15:23:54.430610",
     "exception": false,
     "start_time": "2024-06-20T15:23:53.356371",
     "status": "completed"
    },
    "tags": []
   },
   "outputs": [
    {
     "data": {
      "text/html": [
       "<div>\n",
       "<style scoped>\n",
       "    .dataframe tbody tr th:only-of-type {\n",
       "        vertical-align: middle;\n",
       "    }\n",
       "\n",
       "    .dataframe tbody tr th {\n",
       "        vertical-align: top;\n",
       "    }\n",
       "\n",
       "    .dataframe thead th {\n",
       "        text-align: right;\n",
       "    }\n",
       "</style>\n",
       "<table border=\"1\" class=\"dataframe\">\n",
       "  <thead>\n",
       "    <tr style=\"text-align: right;\">\n",
       "      <th></th>\n",
       "      <th>item_id</th>\n",
       "      <th>user_id</th>\n",
       "      <th>rating</th>\n",
       "      <th>timestamp</th>\n",
       "      <th>model_attr</th>\n",
       "      <th>category</th>\n",
       "      <th>brand</th>\n",
       "      <th>year</th>\n",
       "      <th>user_attr</th>\n",
       "      <th>month</th>\n",
       "    </tr>\n",
       "  </thead>\n",
       "  <tbody>\n",
       "    <tr>\n",
       "      <th>0</th>\n",
       "      <td>0</td>\n",
       "      <td>0</td>\n",
       "      <td>5.0</td>\n",
       "      <td>1999-06-13</td>\n",
       "      <td>Female</td>\n",
       "      <td>Portable Audio &amp; Video</td>\n",
       "      <td>Bose</td>\n",
       "      <td>1999</td>\n",
       "      <td>Male</td>\n",
       "      <td>6</td>\n",
       "    </tr>\n",
       "    <tr>\n",
       "      <th>1</th>\n",
       "      <td>0</td>\n",
       "      <td>1</td>\n",
       "      <td>5.0</td>\n",
       "      <td>1999-06-14</td>\n",
       "      <td>Female</td>\n",
       "      <td>Portable Audio &amp; Video</td>\n",
       "      <td>Bose</td>\n",
       "      <td>1999</td>\n",
       "      <td>Male</td>\n",
       "      <td>6</td>\n",
       "    </tr>\n",
       "    <tr>\n",
       "      <th>2</th>\n",
       "      <td>0</td>\n",
       "      <td>2</td>\n",
       "      <td>3.0</td>\n",
       "      <td>1999-06-17</td>\n",
       "      <td>Female</td>\n",
       "      <td>Portable Audio &amp; Video</td>\n",
       "      <td>Bose</td>\n",
       "      <td>1999</td>\n",
       "      <td>Male</td>\n",
       "      <td>6</td>\n",
       "    </tr>\n",
       "    <tr>\n",
       "      <th>3</th>\n",
       "      <td>0</td>\n",
       "      <td>3</td>\n",
       "      <td>1.0</td>\n",
       "      <td>1999-07-01</td>\n",
       "      <td>Female</td>\n",
       "      <td>Portable Audio &amp; Video</td>\n",
       "      <td>Bose</td>\n",
       "      <td>1999</td>\n",
       "      <td>Male</td>\n",
       "      <td>7</td>\n",
       "    </tr>\n",
       "    <tr>\n",
       "      <th>4</th>\n",
       "      <td>0</td>\n",
       "      <td>4</td>\n",
       "      <td>2.0</td>\n",
       "      <td>1999-07-06</td>\n",
       "      <td>Female</td>\n",
       "      <td>Portable Audio &amp; Video</td>\n",
       "      <td>Bose</td>\n",
       "      <td>1999</td>\n",
       "      <td>Male</td>\n",
       "      <td>7</td>\n",
       "    </tr>\n",
       "    <tr>\n",
       "      <th>...</th>\n",
       "      <td>...</td>\n",
       "      <td>...</td>\n",
       "      <td>...</td>\n",
       "      <td>...</td>\n",
       "      <td>...</td>\n",
       "      <td>...</td>\n",
       "      <td>...</td>\n",
       "      <td>...</td>\n",
       "      <td>...</td>\n",
       "      <td>...</td>\n",
       "    </tr>\n",
       "    <tr>\n",
       "      <th>1292949</th>\n",
       "      <td>9478</td>\n",
       "      <td>1157628</td>\n",
       "      <td>1.0</td>\n",
       "      <td>2018-09-26</td>\n",
       "      <td>Female</td>\n",
       "      <td>Headphones</td>\n",
       "      <td>Etre Jeune</td>\n",
       "      <td>2017</td>\n",
       "      <td>Male</td>\n",
       "      <td>9</td>\n",
       "    </tr>\n",
       "    <tr>\n",
       "      <th>1292950</th>\n",
       "      <td>9435</td>\n",
       "      <td>1157629</td>\n",
       "      <td>5.0</td>\n",
       "      <td>2018-09-26</td>\n",
       "      <td>Female</td>\n",
       "      <td>Computers &amp; Accessories</td>\n",
       "      <td>Bose</td>\n",
       "      <td>2017</td>\n",
       "      <td>Male</td>\n",
       "      <td>9</td>\n",
       "    </tr>\n",
       "    <tr>\n",
       "      <th>1292951</th>\n",
       "      <td>9305</td>\n",
       "      <td>1157630</td>\n",
       "      <td>3.0</td>\n",
       "      <td>2018-09-26</td>\n",
       "      <td>Female</td>\n",
       "      <td>Computers &amp; Accessories</td>\n",
       "      <td>Bose</td>\n",
       "      <td>2016</td>\n",
       "      <td>Male</td>\n",
       "      <td>9</td>\n",
       "    </tr>\n",
       "    <tr>\n",
       "      <th>1292952</th>\n",
       "      <td>9303</td>\n",
       "      <td>1157631</td>\n",
       "      <td>5.0</td>\n",
       "      <td>2018-09-29</td>\n",
       "      <td>Male</td>\n",
       "      <td>Headphones</td>\n",
       "      <td>Bose</td>\n",
       "      <td>2018</td>\n",
       "      <td>Male</td>\n",
       "      <td>9</td>\n",
       "    </tr>\n",
       "    <tr>\n",
       "      <th>1292953</th>\n",
       "      <td>9478</td>\n",
       "      <td>1157632</td>\n",
       "      <td>1.0</td>\n",
       "      <td>2018-10-01</td>\n",
       "      <td>Female</td>\n",
       "      <td>Headphones</td>\n",
       "      <td>Etre Jeune</td>\n",
       "      <td>2017</td>\n",
       "      <td>Female</td>\n",
       "      <td>10</td>\n",
       "    </tr>\n",
       "  </tbody>\n",
       "</table>\n",
       "<p>1292954 rows × 10 columns</p>\n",
       "</div>"
      ],
      "text/plain": [
       "         item_id  user_id  rating   timestamp model_attr  \\\n",
       "0              0        0     5.0  1999-06-13     Female   \n",
       "1              0        1     5.0  1999-06-14     Female   \n",
       "2              0        2     3.0  1999-06-17     Female   \n",
       "3              0        3     1.0  1999-07-01     Female   \n",
       "4              0        4     2.0  1999-07-06     Female   \n",
       "...          ...      ...     ...         ...        ...   \n",
       "1292949     9478  1157628     1.0  2018-09-26     Female   \n",
       "1292950     9435  1157629     5.0  2018-09-26     Female   \n",
       "1292951     9305  1157630     3.0  2018-09-26     Female   \n",
       "1292952     9303  1157631     5.0  2018-09-29       Male   \n",
       "1292953     9478  1157632     1.0  2018-10-01     Female   \n",
       "\n",
       "                        category       brand  year user_attr  month  \n",
       "0         Portable Audio & Video        Bose  1999      Male      6  \n",
       "1         Portable Audio & Video        Bose  1999      Male      6  \n",
       "2         Portable Audio & Video        Bose  1999      Male      6  \n",
       "3         Portable Audio & Video        Bose  1999      Male      7  \n",
       "4         Portable Audio & Video        Bose  1999      Male      7  \n",
       "...                          ...         ...   ...       ...    ...  \n",
       "1292949               Headphones  Etre Jeune  2017      Male      9  \n",
       "1292950  Computers & Accessories        Bose  2017      Male      9  \n",
       "1292951  Computers & Accessories        Bose  2016      Male      9  \n",
       "1292952               Headphones        Bose  2018      Male      9  \n",
       "1292953               Headphones  Etre Jeune  2017    Female     10  \n",
       "\n",
       "[1292954 rows x 10 columns]"
      ]
     },
     "execution_count": 13,
     "metadata": {},
     "output_type": "execute_result"
    }
   ],
   "source": [
    "df['month']=pd.DatetimeIndex(df['timestamp']).month\n",
    "df"
   ]
  },
  {
   "cell_type": "markdown",
   "id": "9c6b6c4f",
   "metadata": {
    "id": "nRTBMTuM3ks2",
    "papermill": {
     "duration": 0.011353,
     "end_time": "2024-06-20T15:23:54.453407",
     "exception": false,
     "start_time": "2024-06-20T15:23:54.442054",
     "status": "completed"
    },
    "tags": []
   },
   "source": [
    "# **Distribution of Ratings**"
   ]
  },
  {
   "cell_type": "code",
   "execution_count": 14,
   "id": "3e73120d",
   "metadata": {
    "execution": {
     "iopub.execute_input": "2024-06-20T15:23:54.478126Z",
     "iopub.status.busy": "2024-06-20T15:23:54.477735Z",
     "iopub.status.idle": "2024-06-20T15:23:54.989197Z",
     "shell.execute_reply": "2024-06-20T15:23:54.988167Z"
    },
    "id": "SbVjzj202W5r",
    "outputId": "768c146d-45d1-4b34-9546-0aba7736193e",
    "papermill": {
     "duration": 0.526584,
     "end_time": "2024-06-20T15:23:54.991781",
     "exception": false,
     "start_time": "2024-06-20T15:23:54.465197",
     "status": "completed"
    },
    "tags": []
   },
   "outputs": [
    {
     "data": {
      "image/png": "[encoded data removed]",
      "text/plain": [
       "<Figure size 640x480 with 1 Axes>"
      ]
     },
     "metadata": {},
     "output_type": "display_data"
    }
   ],
   "source": [
    "x=sns.countplot(x='rating', data=df,palette='bright')\n",
    "for count in x.containers:\n",
    "  x.bar_label(count)"
   ]
  },
  {
   "cell_type": "markdown",
   "id": "452ffc65",
   "metadata": {
    "id": "KW4E03IC3Wvz",
    "papermill": {
     "duration": 0.011987,
     "end_time": "2024-06-20T15:23:55.015046",
     "exception": false,
     "start_time": "2024-06-20T15:23:55.003059",
     "status": "completed"
    },
    "tags": []
   },
   "source": [
    "# **Best Year Of Sales**"
   ]
  },
  {
   "cell_type": "code",
   "execution_count": 15,
   "id": "da955621",
   "metadata": {
    "execution": {
     "iopub.execute_input": "2024-06-20T15:23:55.039798Z",
     "iopub.status.busy": "2024-06-20T15:23:55.039353Z",
     "iopub.status.idle": "2024-06-20T15:23:55.504739Z",
     "shell.execute_reply": "2024-06-20T15:23:55.503334Z"
    },
    "id": "Ijb4UVsq2kSA",
    "outputId": "b6125aaa-01fa-46e4-a9c5-ea6cc9b6ad2d",
    "papermill": {
     "duration": 0.481365,
     "end_time": "2024-06-20T15:23:55.507991",
     "exception": false,
     "start_time": "2024-06-20T15:23:55.026626",
     "status": "completed"
    },
    "tags": []
   },
   "outputs": [
    {
     "data": {
      "image/png": "[encoded data removed]",
      "text/plain": [
       "<Figure size 1300x1000 with 1 Axes>"
      ]
     },
     "metadata": {},
     "output_type": "display_data"
    }
   ],
   "source": [
    "plt.figure(figsize=(13,10))\n",
    "bst_sale=df.groupby(['year'],as_index=False)['rating'].count().sort_values(by='rating',ascending=False)\n",
    "sns.barplot(x='year',y='rating',data=bst_sale)\n",
    "plt.show()\n",
    "\n"
   ]
  },
  {
   "cell_type": "markdown",
   "id": "d3dcfc98",
   "metadata": {
    "id": "Ov1Jrmhy3I0r",
    "papermill": {
     "duration": 0.016284,
     "end_time": "2024-06-20T15:23:55.537147",
     "exception": false,
     "start_time": "2024-06-20T15:23:55.520863",
     "status": "completed"
    },
    "tags": []
   },
   "source": [
    "# **The Brand sold the most in Year 2015**"
   ]
  },
  {
   "cell_type": "code",
   "execution_count": 16,
   "id": "d7d9a8a5",
   "metadata": {
    "execution": {
     "iopub.execute_input": "2024-06-20T15:23:55.568272Z",
     "iopub.status.busy": "2024-06-20T15:23:55.567322Z",
     "iopub.status.idle": "2024-06-20T15:23:55.966426Z",
     "shell.execute_reply": "2024-06-20T15:23:55.965190Z"
    },
    "id": "IbK562Q02tl4",
    "outputId": "36fe5c8c-a7cd-402a-b043-5900d8d44933",
    "papermill": {
     "duration": 0.41922,
     "end_time": "2024-06-20T15:23:55.969656",
     "exception": false,
     "start_time": "2024-06-20T15:23:55.550436",
     "status": "completed"
    },
    "tags": []
   },
   "outputs": [
    {
     "data": {
      "text/plain": [
       "<Axes: ylabel='brand'>"
      ]
     },
     "execution_count": 16,
     "metadata": {},
     "output_type": "execute_result"
    },
    {
     "data": {
      "image/png": "[encoded data removed]",
      "text/plain": [
       "<Figure size 640x480 with 1 Axes>"
      ]
     },
     "metadata": {},
     "output_type": "display_data"
    }
   ],
   "source": [
    "df_2014 = df[df['year'] == 2015]\n",
    "\n",
    "df_2014.groupby('brand')['rating'].count().sort_values(ascending=False).head(5).plot(kind='barh')"
   ]
  },
  {
   "cell_type": "markdown",
   "id": "94fb50ab",
   "metadata": {
    "id": "DsL5N0lPCB1Z",
    "papermill": {
     "duration": 0.015763,
     "end_time": "2024-06-20T15:23:56.003795",
     "exception": false,
     "start_time": "2024-06-20T15:23:55.988032",
     "status": "completed"
    },
    "tags": []
   },
   "source": [
    "# **Most Sold category of the Product**"
   ]
  },
  {
   "cell_type": "code",
   "execution_count": 17,
   "id": "fd09f4b2",
   "metadata": {
    "execution": {
     "iopub.execute_input": "2024-06-20T15:23:56.032692Z",
     "iopub.status.busy": "2024-06-20T15:23:56.031515Z",
     "iopub.status.idle": "2024-06-20T15:23:56.465684Z",
     "shell.execute_reply": "2024-06-20T15:23:56.464136Z"
    },
    "id": "_3wNpyIy2yWi",
    "outputId": "10a9486d-45ed-4982-8eaa-1b19bc15430a",
    "papermill": {
     "duration": 0.451932,
     "end_time": "2024-06-20T15:23:56.469219",
     "exception": false,
     "start_time": "2024-06-20T15:23:56.017287",
     "status": "completed"
    },
    "tags": []
   },
   "outputs": [
    {
     "data": {
      "image/png": "[encoded data removed]",
      "text/plain": [
       "<Figure size 800x1400 with 1 Axes>"
      ]
     },
     "metadata": {},
     "output_type": "display_data"
    }
   ],
   "source": [
    "plt.figure(figsize=(8,14))\n",
    "df.groupby('category')['rating'].count().head(5).sort_values().plot(kind='pie');"
   ]
  },
  {
   "cell_type": "markdown",
   "id": "1e3c632e",
   "metadata": {
    "papermill": {
     "duration": 0.012981,
     "end_time": "2024-06-20T15:23:56.498937",
     "exception": false,
     "start_time": "2024-06-20T15:23:56.485956",
     "status": "completed"
    },
    "tags": []
   },
   "source": [
    "# ****Average Ratings Trend Over the Years****"
   ]
  },
  {
   "cell_type": "code",
   "execution_count": 18,
   "id": "5d99dffc",
   "metadata": {
    "execution": {
     "iopub.execute_input": "2024-06-20T15:23:56.528342Z",
     "iopub.status.busy": "2024-06-20T15:23:56.527228Z",
     "iopub.status.idle": "2024-06-20T15:23:56.837271Z",
     "shell.execute_reply": "2024-06-20T15:23:56.835939Z"
    },
    "papermill": {
     "duration": 0.330892,
     "end_time": "2024-06-20T15:23:56.843125",
     "exception": false,
     "start_time": "2024-06-20T15:23:56.512233",
     "status": "completed"
    },
    "tags": []
   },
   "outputs": [
    {
     "data": {
      "image/png": "[encoded data removed]",
      "text/plain": [
       "<Figure size 640x480 with 1 Axes>"
      ]
     },
     "metadata": {},
     "output_type": "display_data"
    }
   ],
   "source": [
    "avg_rating2=df.groupby('year')['rating'].mean().plot(kind=\"line\")\n",
    "plt.show()"
   ]
  },
  {
   "cell_type": "markdown",
   "id": "2a645c27",
   "metadata": {
    "papermill": {
     "duration": 0.019738,
     "end_time": "2024-06-20T15:23:56.883344",
     "exception": false,
     "start_time": "2024-06-20T15:23:56.863606",
     "status": "completed"
    },
    "tags": []
   },
   "source": [
    "# Month which product sold most"
   ]
  },
  {
   "cell_type": "code",
   "execution_count": 19,
   "id": "dfa55dde",
   "metadata": {
    "execution": {
     "iopub.execute_input": "2024-06-20T15:23:56.926306Z",
     "iopub.status.busy": "2024-06-20T15:23:56.925333Z",
     "iopub.status.idle": "2024-06-20T15:23:57.224285Z",
     "shell.execute_reply": "2024-06-20T15:23:57.223060Z"
    },
    "papermill": {
     "duration": 0.323579,
     "end_time": "2024-06-20T15:23:57.227182",
     "exception": false,
     "start_time": "2024-06-20T15:23:56.903603",
     "status": "completed"
    },
    "tags": []
   },
   "outputs": [
    {
     "data": {
      "image/png": "[encoded data removed]",
      "text/plain": [
       "<Figure size 640x480 with 1 Axes>"
      ]
     },
     "metadata": {},
     "output_type": "display_data"
    }
   ],
   "source": [
    "df.groupby('month')['rating'].count().plot(kind='line');"
   ]
  }
 ],
 "metadata": {
  "colab": {
   "provenance": []
  },
  "kaggle": {
   "accelerator": "none",
   "dataSources": [
    {
     "datasetId": 5206247,
     "sourceId": 8683988,
     "sourceType": "datasetVersion"
    }
   ],
   "dockerImageVersionId": 30732,
   "isGpuEnabled": false,
   "isInternetEnabled": true,
   "language": "python",
   "sourceType": "notebook"
  },
  "kernelspec": {
   "display_name": "Python 3",
   "language": "python",
   "name": "python3"
  },
  "language_info": {
   "codemirror_mode": {
    "name": "ipython",
    "version": 3
   },
   "file_extension": ".py",
   "mimetype": "text/x-python",
   "name": "python",
   "nbconvert_exporter": "python",
   "pygments_lexer": "ipython3",
   "version": "3.10.13"
  },
  "papermill": {
   "default_parameters": {},
   "duration": 18.273265,
   "end_time": "2024-06-20T15:23:57.965310",
   "environment_variables": {},
   "exception": null,
   "input_path": "__notebook__.ipynb",
   "output_path": "__notebook__.ipynb",
   "parameters": {},
   "start_time": "2024-06-20T15:23:39.692045",
   "version": "2.5.0"
  }
 },
 "nbformat": 4,
 "nbformat_minor": 5
}
